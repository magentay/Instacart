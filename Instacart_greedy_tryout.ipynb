{
 "cells": [
  {
   "cell_type": "code",
   "execution_count": 1,
   "metadata": {
    "collapsed": true,
    "deletable": true,
    "editable": true
   },
   "outputs": [],
   "source": [
    "import pandas as pd\n",
    "import numpy as np\n",
    "import matplotlib.pyplot as plt\n",
    "%matplotlib inline\n",
    "import seaborn as sns\n",
    "\n",
    "import warnings\n",
    "warnings.filterwarnings('ignore') #Supress unnecessary warnings for readability and cleaner presentation\n",
    "\n",
    "from sklearn.metrics import f1_score\n",
    "from sklearn.preprocessing import MultiLabelBinarizer"
   ]
  },
  {
   "cell_type": "code",
   "execution_count": 2,
   "metadata": {
    "collapsed": false,
    "deletable": true,
    "editable": true
   },
   "outputs": [],
   "source": [
    "# Load files\n",
    "datadir = '/data/Instacart/'\n",
    "\n",
    "orders = pd.read_csv(datadir + 'orders.csv')\n",
    "prior = pd.read_csv( datadir + 'order_products__prior.csv')\n",
    "train = pd.read_csv(datadir + 'order_products__train.csv')"
   ]
  },
  {
   "cell_type": "markdown",
   "metadata": {
    "deletable": true,
    "editable": true
   },
   "source": [
    "# Evaluation : Mean F1 score\n",
    "\n",
    "\n",
    "\n",
    "$$F_1=2 \\cdot\\frac{\\mathbf{precision} \\cdot \\mathbf{recall}}{\\mathbf{precision} + \\mathbf{recall}}$$"
   ]
  },
  {
   "cell_type": "code",
   "execution_count": 3,
   "metadata": {
    "collapsed": false,
    "deletable": true,
    "editable": true
   },
   "outputs": [
    {
     "data": {
      "text/html": [
       "<div>\n",
       "<table border=\"1\" class=\"dataframe\">\n",
       "  <thead>\n",
       "    <tr style=\"text-align: right;\">\n",
       "      <th></th>\n",
       "      <th>order_id</th>\n",
       "      <th>product_id</th>\n",
       "    </tr>\n",
       "  </thead>\n",
       "  <tbody>\n",
       "    <tr>\n",
       "      <th>0</th>\n",
       "      <td>1</td>\n",
       "      <td>[49302, 11109, 10246, 49683, 43633, 13176, 472...</td>\n",
       "    </tr>\n",
       "    <tr>\n",
       "      <th>1</th>\n",
       "      <td>36</td>\n",
       "      <td>[39612, 19660, 49235, 43086, 46620, 34497, 486...</td>\n",
       "    </tr>\n",
       "    <tr>\n",
       "      <th>2</th>\n",
       "      <td>38</td>\n",
       "      <td>[11913, 18159, 4461, 21616, 23622, 32433, 2884...</td>\n",
       "    </tr>\n",
       "    <tr>\n",
       "      <th>3</th>\n",
       "      <td>96</td>\n",
       "      <td>[20574, 30391, 40706, 25610, 27966, 24489, 39275]</td>\n",
       "    </tr>\n",
       "    <tr>\n",
       "      <th>4</th>\n",
       "      <td>98</td>\n",
       "      <td>[8859, 19731, 43654, 13176, 4357, 37664, 34065...</td>\n",
       "    </tr>\n",
       "  </tbody>\n",
       "</table>\n",
       "</div>"
      ],
      "text/plain": [
       "   order_id                                         product_id\n",
       "0         1  [49302, 11109, 10246, 49683, 43633, 13176, 472...\n",
       "1        36  [39612, 19660, 49235, 43086, 46620, 34497, 486...\n",
       "2        38  [11913, 18159, 4461, 21616, 23622, 32433, 2884...\n",
       "3        96  [20574, 30391, 40706, 25610, 27966, 24489, 39275]\n",
       "4        98  [8859, 19731, 43654, 13176, 4357, 37664, 34065..."
      ]
     },
     "execution_count": 3,
     "metadata": {},
     "output_type": "execute_result"
    }
   ],
   "source": [
    "# Convert train file into submit format\n",
    "train_grouped = train.groupby('order_id').product_id.apply(list).reset_index()\n",
    "del train\n",
    "train_grouped.head()"
   ]
  },
  {
   "cell_type": "code",
   "execution_count": 4,
   "metadata": {
    "collapsed": false,
    "deletable": true,
    "editable": true
   },
   "outputs": [],
   "source": [
    "mlb = MultiLabelBinarizer(sparse_output=True)\n",
    "mlb.fit(train_grouped.product_id)\n",
    "y_true = mlb.transform(train_grouped.product_id)"
   ]
  },
  {
   "cell_type": "code",
   "execution_count": 5,
   "metadata": {
    "collapsed": false,
    "deletable": true,
    "editable": true
   },
   "outputs": [
    {
     "data": {
      "text/plain": [
       "[1.0, 1.0, 1.0, 1.0]"
      ]
     },
     "execution_count": 5,
     "metadata": {},
     "output_type": "execute_result"
    }
   ],
   "source": [
    "[f1_score(y_true, y_true, average='micro') ,\n",
    "f1_score(y_true, y_true, average = 'macro'),\n",
    "f1_score(y_true, y_true, average = 'weighted'),\n",
    "f1_score(y_true, y_true, average = 'samples')]"
   ]
  },
  {
   "cell_type": "markdown",
   "metadata": {},
   "source": [
    "# TryOut1 : Completely Repeat the last order"
   ]
  },
  {
   "cell_type": "code",
   "execution_count": 6,
   "metadata": {
    "collapsed": false
   },
   "outputs": [
    {
     "data": {
      "text/html": [
       "<div>\n",
       "<table border=\"1\" class=\"dataframe\">\n",
       "  <thead>\n",
       "    <tr style=\"text-align: right;\">\n",
       "      <th></th>\n",
       "      <th>order_id</th>\n",
       "      <th>user_id</th>\n",
       "      <th>eval_set</th>\n",
       "      <th>order_number</th>\n",
       "      <th>order_dow</th>\n",
       "      <th>order_hour_of_day</th>\n",
       "      <th>days_since_prior_order</th>\n",
       "      <th>prior_order</th>\n",
       "      <th>prior_order_id</th>\n",
       "    </tr>\n",
       "  </thead>\n",
       "  <tbody>\n",
       "    <tr>\n",
       "      <th>0</th>\n",
       "      <td>2539329</td>\n",
       "      <td>1</td>\n",
       "      <td>prior</td>\n",
       "      <td>1</td>\n",
       "      <td>2</td>\n",
       "      <td>8</td>\n",
       "      <td>NaN</td>\n",
       "      <td>0</td>\n",
       "      <td>NaN</td>\n",
       "    </tr>\n",
       "    <tr>\n",
       "      <th>1</th>\n",
       "      <td>2398795</td>\n",
       "      <td>1</td>\n",
       "      <td>prior</td>\n",
       "      <td>2</td>\n",
       "      <td>3</td>\n",
       "      <td>7</td>\n",
       "      <td>15.0</td>\n",
       "      <td>1</td>\n",
       "      <td>2539329.0</td>\n",
       "    </tr>\n",
       "    <tr>\n",
       "      <th>2</th>\n",
       "      <td>473747</td>\n",
       "      <td>1</td>\n",
       "      <td>prior</td>\n",
       "      <td>3</td>\n",
       "      <td>3</td>\n",
       "      <td>12</td>\n",
       "      <td>21.0</td>\n",
       "      <td>2</td>\n",
       "      <td>2398795.0</td>\n",
       "    </tr>\n",
       "    <tr>\n",
       "      <th>3</th>\n",
       "      <td>2254736</td>\n",
       "      <td>1</td>\n",
       "      <td>prior</td>\n",
       "      <td>4</td>\n",
       "      <td>4</td>\n",
       "      <td>7</td>\n",
       "      <td>29.0</td>\n",
       "      <td>3</td>\n",
       "      <td>473747.0</td>\n",
       "    </tr>\n",
       "    <tr>\n",
       "      <th>4</th>\n",
       "      <td>431534</td>\n",
       "      <td>1</td>\n",
       "      <td>prior</td>\n",
       "      <td>5</td>\n",
       "      <td>4</td>\n",
       "      <td>15</td>\n",
       "      <td>28.0</td>\n",
       "      <td>4</td>\n",
       "      <td>2254736.0</td>\n",
       "    </tr>\n",
       "  </tbody>\n",
       "</table>\n",
       "</div>"
      ],
      "text/plain": [
       "   order_id  user_id eval_set  order_number  order_dow  order_hour_of_day  \\\n",
       "0   2539329        1    prior             1          2                  8   \n",
       "1   2398795        1    prior             2          3                  7   \n",
       "2    473747        1    prior             3          3                 12   \n",
       "3   2254736        1    prior             4          4                  7   \n",
       "4    431534        1    prior             5          4                 15   \n",
       "\n",
       "   days_since_prior_order  prior_order  prior_order_id  \n",
       "0                     NaN            0             NaN  \n",
       "1                    15.0            1       2539329.0  \n",
       "2                    21.0            2       2398795.0  \n",
       "3                    29.0            3        473747.0  \n",
       "4                    28.0            4       2254736.0  "
      ]
     },
     "execution_count": 6,
     "metadata": {},
     "output_type": "execute_result"
    }
   ],
   "source": [
    "prior_grouped = prior.groupby('order_id').product_id.apply(list).reset_index()\n",
    "\n",
    "orders['prior_order'] = orders['order_number'] - 1\n",
    "prior_orders = orders[['order_id','user_id','order_number']]\n",
    "prior_orders.rename(columns={ 'order_number':'prior_order','order_id':'prior_order_id'}, inplace=True)\n",
    "orders = pd.merge(orders, prior_orders, on =['user_id','prior_order'], how = 'left')\n",
    "orders.head()"
   ]
  },
  {
   "cell_type": "code",
   "execution_count": 7,
   "metadata": {
    "collapsed": false
   },
   "outputs": [
    {
     "data": {
      "text/html": [
       "<div>\n",
       "<table border=\"1\" class=\"dataframe\">\n",
       "  <thead>\n",
       "    <tr style=\"text-align: right;\">\n",
       "      <th></th>\n",
       "      <th>order_id_x</th>\n",
       "      <th>prior_order_id</th>\n",
       "      <th>product_id_x</th>\n",
       "      <th>order_id_y</th>\n",
       "      <th>product_id_y</th>\n",
       "    </tr>\n",
       "  </thead>\n",
       "  <tbody>\n",
       "    <tr>\n",
       "      <th>0</th>\n",
       "      <td>1187899</td>\n",
       "      <td>2550362.0</td>\n",
       "      <td>[196, 25133, 38928, 26405, 39657, 10258, 13032...</td>\n",
       "      <td>2550362</td>\n",
       "      <td>[196, 46149, 39657, 38928, 25133, 10258, 35951...</td>\n",
       "    </tr>\n",
       "    <tr>\n",
       "      <th>1</th>\n",
       "      <td>1492625</td>\n",
       "      <td>839880.0</td>\n",
       "      <td>[22963, 7963, 16589, 32792, 41787, 22825, 1364...</td>\n",
       "      <td>839880</td>\n",
       "      <td>[24852, 16589, 1559, 19156, 18523, 22825, 2741...</td>\n",
       "    </tr>\n",
       "    <tr>\n",
       "      <th>2</th>\n",
       "      <td>2196797</td>\n",
       "      <td>157374.0</td>\n",
       "      <td>[15349, 19057, 16185, 21413, 20843, 20114, 482...</td>\n",
       "      <td>157374</td>\n",
       "      <td>[27344, 24535, 43693, 40706, 16168, 21413, 139...</td>\n",
       "    </tr>\n",
       "    <tr>\n",
       "      <th>3</th>\n",
       "      <td>525192</td>\n",
       "      <td>2452257.0</td>\n",
       "      <td>[12053, 47272, 37999, 13198, 43967, 40852, 176...</td>\n",
       "      <td>2452257</td>\n",
       "      <td>[47272, 29993, 31683, 27690, 9598, 13198, 3039...</td>\n",
       "    </tr>\n",
       "    <tr>\n",
       "      <th>4</th>\n",
       "      <td>880375</td>\n",
       "      <td>2570360.0</td>\n",
       "      <td>[15937, 5539, 10960, 23165, 22247, 4853, 27104...</td>\n",
       "      <td>2570360</td>\n",
       "      <td>[23165, 2078, 4799, 33640, 10644, 41540, 15143...</td>\n",
       "    </tr>\n",
       "  </tbody>\n",
       "</table>\n",
       "</div>"
      ],
      "text/plain": [
       "   order_id_x  prior_order_id  \\\n",
       "0     1187899       2550362.0   \n",
       "1     1492625        839880.0   \n",
       "2     2196797        157374.0   \n",
       "3      525192       2452257.0   \n",
       "4      880375       2570360.0   \n",
       "\n",
       "                                        product_id_x  order_id_y  \\\n",
       "0  [196, 25133, 38928, 26405, 39657, 10258, 13032...     2550362   \n",
       "1  [22963, 7963, 16589, 32792, 41787, 22825, 1364...      839880   \n",
       "2  [15349, 19057, 16185, 21413, 20843, 20114, 482...      157374   \n",
       "3  [12053, 47272, 37999, 13198, 43967, 40852, 176...     2452257   \n",
       "4  [15937, 5539, 10960, 23165, 22247, 4853, 27104...     2570360   \n",
       "\n",
       "                                        product_id_y  \n",
       "0  [196, 46149, 39657, 38928, 25133, 10258, 35951...  \n",
       "1  [24852, 16589, 1559, 19156, 18523, 22825, 2741...  \n",
       "2  [27344, 24535, 43693, 40706, 16168, 21413, 139...  \n",
       "3  [47272, 29993, 31683, 27690, 9598, 13198, 3039...  \n",
       "4  [23165, 2078, 4799, 33640, 10644, 41540, 15143...  "
      ]
     },
     "execution_count": 7,
     "metadata": {},
     "output_type": "execute_result"
    }
   ],
   "source": [
    "selected = orders.ix[orders['eval_set'] == 'train',['order_id', 'prior_order_id']]\n",
    "selected = pd.merge(selected, train_grouped, on ='order_id', how ='left')\n",
    "selected = pd.merge(selected, prior_grouped, left_on = 'prior_order_id', right_on = 'order_id', how = 'left')\n",
    "selected.head()"
   ]
  },
  {
   "cell_type": "code",
   "execution_count": 8,
   "metadata": {
    "collapsed": false
   },
   "outputs": [],
   "source": [
    "mlb.fit(selected.product_id_y +selected.product_id_x)\n",
    "y_true = mlb.transform(selected.product_id_x)\n",
    "y_pred = mlb.transform(selected.product_id_y)"
   ]
  },
  {
   "cell_type": "code",
   "execution_count": 9,
   "metadata": {
    "collapsed": false,
    "scrolled": true
   },
   "outputs": [
    {
     "data": {
      "text/plain": [
       "[0.27655730325611744,\n",
       " 0.16340051280800727,\n",
       " 0.27669414866023379,\n",
       " 0.26162917497110255]"
      ]
     },
     "execution_count": 9,
     "metadata": {},
     "output_type": "execute_result"
    }
   ],
   "source": [
    "[f1_score(y_true, y_pred, average='micro') ,\n",
    "f1_score(y_true, y_pred, average = 'macro'),\n",
    "f1_score(y_true, y_pred, average = 'weighted'),\n",
    "f1_score(y_true, y_pred, average = 'samples')]"
   ]
  },
  {
   "cell_type": "markdown",
   "metadata": {},
   "source": [
    "##### (0.3276746 Public LB Score)"
   ]
  },
  {
   "cell_type": "markdown",
   "metadata": {},
   "source": [
    "# TryOut2 : Order reordered products in last order"
   ]
  },
  {
   "cell_type": "code",
   "execution_count": 10,
   "metadata": {
    "collapsed": false
   },
   "outputs": [],
   "source": [
    "prior_grouped = prior.ix[prior['reordered'] ==1].groupby('order_id').product_id.apply(list).reset_index()"
   ]
  },
  {
   "cell_type": "code",
   "execution_count": 11,
   "metadata": {
    "collapsed": false
   },
   "outputs": [
    {
     "data": {
      "text/html": [
       "<div>\n",
       "<table border=\"1\" class=\"dataframe\">\n",
       "  <thead>\n",
       "    <tr style=\"text-align: right;\">\n",
       "      <th></th>\n",
       "      <th>order_id_x</th>\n",
       "      <th>prior_order_id</th>\n",
       "      <th>product_id_x</th>\n",
       "      <th>order_id_y</th>\n",
       "      <th>product_id_y</th>\n",
       "    </tr>\n",
       "  </thead>\n",
       "  <tbody>\n",
       "    <tr>\n",
       "      <th>0</th>\n",
       "      <td>1187899</td>\n",
       "      <td>2550362.0</td>\n",
       "      <td>[196, 25133, 38928, 26405, 39657, 10258, 13032...</td>\n",
       "      <td>2550362</td>\n",
       "      <td>[196, 46149, 25133, 10258, 13032, 12427]</td>\n",
       "    </tr>\n",
       "    <tr>\n",
       "      <th>1</th>\n",
       "      <td>1492625</td>\n",
       "      <td>839880.0</td>\n",
       "      <td>[22963, 7963, 16589, 32792, 41787, 22825, 1364...</td>\n",
       "      <td>839880</td>\n",
       "      <td>[24852, 16589, 1559, 19156, 18523, 33754, 2170...</td>\n",
       "    </tr>\n",
       "    <tr>\n",
       "      <th>2</th>\n",
       "      <td>2196797</td>\n",
       "      <td>157374.0</td>\n",
       "      <td>[15349, 19057, 16185, 21413, 20843, 20114, 482...</td>\n",
       "      <td>157374</td>\n",
       "      <td>[24535, 43693, 40706, 21413, 13988, 8518, 2660...</td>\n",
       "    </tr>\n",
       "    <tr>\n",
       "      <th>3</th>\n",
       "      <td>525192</td>\n",
       "      <td>2452257.0</td>\n",
       "      <td>[12053, 47272, 37999, 13198, 43967, 40852, 176...</td>\n",
       "      <td>2452257</td>\n",
       "      <td>[47272, 29993, 31683, 27690, 9598, 13198, 3039...</td>\n",
       "    </tr>\n",
       "    <tr>\n",
       "      <th>4</th>\n",
       "      <td>880375</td>\n",
       "      <td>2570360.0</td>\n",
       "      <td>[15937, 5539, 10960, 23165, 22247, 4853, 27104...</td>\n",
       "      <td>2570360</td>\n",
       "      <td>[23165, 2078, 34358, 17794, 18531]</td>\n",
       "    </tr>\n",
       "  </tbody>\n",
       "</table>\n",
       "</div>"
      ],
      "text/plain": [
       "   order_id_x  prior_order_id  \\\n",
       "0     1187899       2550362.0   \n",
       "1     1492625        839880.0   \n",
       "2     2196797        157374.0   \n",
       "3      525192       2452257.0   \n",
       "4      880375       2570360.0   \n",
       "\n",
       "                                        product_id_x  order_id_y  \\\n",
       "0  [196, 25133, 38928, 26405, 39657, 10258, 13032...     2550362   \n",
       "1  [22963, 7963, 16589, 32792, 41787, 22825, 1364...      839880   \n",
       "2  [15349, 19057, 16185, 21413, 20843, 20114, 482...      157374   \n",
       "3  [12053, 47272, 37999, 13198, 43967, 40852, 176...     2452257   \n",
       "4  [15937, 5539, 10960, 23165, 22247, 4853, 27104...     2570360   \n",
       "\n",
       "                                        product_id_y  \n",
       "0           [196, 46149, 25133, 10258, 13032, 12427]  \n",
       "1  [24852, 16589, 1559, 19156, 18523, 33754, 2170...  \n",
       "2  [24535, 43693, 40706, 21413, 13988, 8518, 2660...  \n",
       "3  [47272, 29993, 31683, 27690, 9598, 13198, 3039...  \n",
       "4                 [23165, 2078, 34358, 17794, 18531]  "
      ]
     },
     "execution_count": 11,
     "metadata": {},
     "output_type": "execute_result"
    }
   ],
   "source": [
    "selected = orders.ix[orders['eval_set'] == 'train',['order_id', 'prior_order_id']]\n",
    "selected = pd.merge(selected, train_grouped, on ='order_id', how ='left')\n",
    "selected = pd.merge(selected, prior_grouped, left_on = 'prior_order_id', right_on = 'order_id', how = 'inner')\n",
    "selected.head()"
   ]
  },
  {
   "cell_type": "code",
   "execution_count": 12,
   "metadata": {
    "collapsed": false
   },
   "outputs": [],
   "source": [
    "mlb.fit(selected.product_id_y +selected.product_id_x)\n",
    "y_true = mlb.transform(selected.product_id_x)\n",
    "y_pred = mlb.transform(selected.product_id_y)"
   ]
  },
  {
   "cell_type": "code",
   "execution_count": 13,
   "metadata": {
    "collapsed": false
   },
   "outputs": [
    {
     "data": {
      "text/plain": [
       "[0.28609177966505295,\n",
       " 0.1637014192638124,\n",
       " 0.27389268327012739,\n",
       " 0.26612619160327722]"
      ]
     },
     "execution_count": 13,
     "metadata": {},
     "output_type": "execute_result"
    }
   ],
   "source": [
    "[f1_score(y_true, y_pred, average='micro') ,\n",
    "f1_score(y_true, y_pred, average = 'macro'),\n",
    "f1_score(y_true, y_pred, average = 'weighted'),\n",
    "f1_score(y_true, y_pred, average = 'samples')]"
   ]
  },
  {
   "cell_type": "markdown",
   "metadata": {},
   "source": [
    "##### (0.3276826 Public LB Score)"
   ]
  },
  {
   "cell_type": "code",
   "execution_count": 14,
   "metadata": {
    "collapsed": true
   },
   "outputs": [],
   "source": [
    "del prior_grouped"
   ]
  },
  {
   "cell_type": "markdown",
   "metadata": {},
   "source": [
    "# TryOut3: Order all the products ordered before"
   ]
  },
  {
   "cell_type": "code",
   "execution_count": 15,
   "metadata": {
    "collapsed": false
   },
   "outputs": [],
   "source": [
    "prior_user = pd.merge(prior, orders[['order_id','user_id']], on='order_id', how = 'left')\n",
    "del prior"
   ]
  },
  {
   "cell_type": "code",
   "execution_count": 16,
   "metadata": {
    "collapsed": false
   },
   "outputs": [
    {
     "data": {
      "text/html": [
       "<div>\n",
       "<table border=\"1\" class=\"dataframe\">\n",
       "  <thead>\n",
       "    <tr style=\"text-align: right;\">\n",
       "      <th></th>\n",
       "      <th>user_id</th>\n",
       "      <th>product_id</th>\n",
       "    </tr>\n",
       "  </thead>\n",
       "  <tbody>\n",
       "    <tr>\n",
       "      <th>0</th>\n",
       "      <td>1</td>\n",
       "      <td>[17122, 196, 26405, 46149, 14084, 13032, 26088...</td>\n",
       "    </tr>\n",
       "    <tr>\n",
       "      <th>1</th>\n",
       "      <td>2</td>\n",
       "      <td>[45066, 2573, 18961, 23, 32792, 1559, 22559, 1...</td>\n",
       "    </tr>\n",
       "    <tr>\n",
       "      <th>2</th>\n",
       "      <td>3</td>\n",
       "      <td>[17668, 44683, 48523, 21903, 14992, 21137, 324...</td>\n",
       "    </tr>\n",
       "    <tr>\n",
       "      <th>3</th>\n",
       "      <td>4</td>\n",
       "      <td>[21573, 42329, 17769, 35469, 37646, 1200, 1905...</td>\n",
       "    </tr>\n",
       "    <tr>\n",
       "      <th>4</th>\n",
       "      <td>5</td>\n",
       "      <td>[11777, 40706, 28289, 48775, 20754, 6808, 1398...</td>\n",
       "    </tr>\n",
       "  </tbody>\n",
       "</table>\n",
       "</div>"
      ],
      "text/plain": [
       "   user_id                                         product_id\n",
       "0        1  [17122, 196, 26405, 46149, 14084, 13032, 26088...\n",
       "1        2  [45066, 2573, 18961, 23, 32792, 1559, 22559, 1...\n",
       "2        3  [17668, 44683, 48523, 21903, 14992, 21137, 324...\n",
       "3        4  [21573, 42329, 17769, 35469, 37646, 1200, 1905...\n",
       "4        5  [11777, 40706, 28289, 48775, 20754, 6808, 1398..."
      ]
     },
     "execution_count": 16,
     "metadata": {},
     "output_type": "execute_result"
    }
   ],
   "source": [
    "user_grouped = prior_user.groupby('user_id').product_id.apply(lambda x : list(set(list(x)))).reset_index()\n",
    "user_grouped.head()"
   ]
  },
  {
   "cell_type": "code",
   "execution_count": 17,
   "metadata": {
    "collapsed": false
   },
   "outputs": [
    {
     "data": {
      "text/html": [
       "<div>\n",
       "<table border=\"1\" class=\"dataframe\">\n",
       "  <thead>\n",
       "    <tr style=\"text-align: right;\">\n",
       "      <th></th>\n",
       "      <th>order_id</th>\n",
       "      <th>user_id</th>\n",
       "      <th>product_id_x</th>\n",
       "      <th>product_id_y</th>\n",
       "    </tr>\n",
       "  </thead>\n",
       "  <tbody>\n",
       "    <tr>\n",
       "      <th>0</th>\n",
       "      <td>1187899</td>\n",
       "      <td>1</td>\n",
       "      <td>[196, 25133, 38928, 26405, 39657, 10258, 13032...</td>\n",
       "      <td>[17122, 196, 26405, 46149, 14084, 13032, 26088...</td>\n",
       "    </tr>\n",
       "    <tr>\n",
       "      <th>1</th>\n",
       "      <td>1492625</td>\n",
       "      <td>2</td>\n",
       "      <td>[22963, 7963, 16589, 32792, 41787, 22825, 1364...</td>\n",
       "      <td>[45066, 2573, 18961, 23, 32792, 1559, 22559, 1...</td>\n",
       "    </tr>\n",
       "    <tr>\n",
       "      <th>2</th>\n",
       "      <td>2196797</td>\n",
       "      <td>5</td>\n",
       "      <td>[15349, 19057, 16185, 21413, 20843, 20114, 482...</td>\n",
       "      <td>[11777, 40706, 28289, 48775, 20754, 6808, 1398...</td>\n",
       "    </tr>\n",
       "    <tr>\n",
       "      <th>3</th>\n",
       "      <td>525192</td>\n",
       "      <td>7</td>\n",
       "      <td>[12053, 47272, 37999, 13198, 43967, 40852, 176...</td>\n",
       "      <td>[11520, 35333, 519, 10504, 47623, 45066, 13198...</td>\n",
       "    </tr>\n",
       "    <tr>\n",
       "      <th>4</th>\n",
       "      <td>880375</td>\n",
       "      <td>8</td>\n",
       "      <td>[15937, 5539, 10960, 23165, 22247, 4853, 27104...</td>\n",
       "      <td>[11136, 8193, 17794, 26882, 39812, 24838, 651,...</td>\n",
       "    </tr>\n",
       "  </tbody>\n",
       "</table>\n",
       "</div>"
      ],
      "text/plain": [
       "   order_id  user_id                                       product_id_x  \\\n",
       "0   1187899        1  [196, 25133, 38928, 26405, 39657, 10258, 13032...   \n",
       "1   1492625        2  [22963, 7963, 16589, 32792, 41787, 22825, 1364...   \n",
       "2   2196797        5  [15349, 19057, 16185, 21413, 20843, 20114, 482...   \n",
       "3    525192        7  [12053, 47272, 37999, 13198, 43967, 40852, 176...   \n",
       "4    880375        8  [15937, 5539, 10960, 23165, 22247, 4853, 27104...   \n",
       "\n",
       "                                        product_id_y  \n",
       "0  [17122, 196, 26405, 46149, 14084, 13032, 26088...  \n",
       "1  [45066, 2573, 18961, 23, 32792, 1559, 22559, 1...  \n",
       "2  [11777, 40706, 28289, 48775, 20754, 6808, 1398...  \n",
       "3  [11520, 35333, 519, 10504, 47623, 45066, 13198...  \n",
       "4  [11136, 8193, 17794, 26882, 39812, 24838, 651,...  "
      ]
     },
     "execution_count": 17,
     "metadata": {},
     "output_type": "execute_result"
    }
   ],
   "source": [
    "selected = orders.ix[orders['eval_set']=='train']\n",
    "selected = pd.merge(selected[['order_id', 'user_id']],  train_grouped, on = 'order_id', how = 'left')\n",
    "selected = pd.merge(selected, user_grouped, on='user_id', how = 'left')\n",
    "selected.head()"
   ]
  },
  {
   "cell_type": "code",
   "execution_count": 18,
   "metadata": {
    "collapsed": false
   },
   "outputs": [],
   "source": [
    "mlb.fit(selected.product_id_y + selected.product_id_x)\n",
    "y_true = mlb.transform(selected.product_id_x)\n",
    "y_pred = mlb.transform(selected.product_id_y)"
   ]
  },
  {
   "cell_type": "code",
   "execution_count": 19,
   "metadata": {
    "collapsed": false
   },
   "outputs": [
    {
     "data": {
      "text/plain": [
       "[0.16813076981904759,\n",
       " 0.099262958027494116,\n",
       " 0.19806153072343349,\n",
       " 0.19748902517893549]"
      ]
     },
     "execution_count": 19,
     "metadata": {},
     "output_type": "execute_result"
    }
   ],
   "source": [
    "[f1_score(y_true, y_pred, average='micro') ,\n",
    "f1_score(y_true, y_pred, average = 'macro'),\n",
    "f1_score(y_true, y_pred, average = 'weighted'),\n",
    "f1_score(y_true, y_pred, average = 'samples')]"
   ]
  },
  {
   "cell_type": "markdown",
   "metadata": {},
   "source": [
    "# TryOut4: Order all the products reordered before"
   ]
  },
  {
   "cell_type": "code",
   "execution_count": 20,
   "metadata": {
    "collapsed": false
   },
   "outputs": [
    {
     "data": {
      "text/html": [
       "<div>\n",
       "<table border=\"1\" class=\"dataframe\">\n",
       "  <thead>\n",
       "    <tr style=\"text-align: right;\">\n",
       "      <th></th>\n",
       "      <th>user_id</th>\n",
       "      <th>product_id</th>\n",
       "    </tr>\n",
       "  </thead>\n",
       "  <tbody>\n",
       "    <tr>\n",
       "      <th>0</th>\n",
       "      <td>1</td>\n",
       "      <td>[196, 26405, 46149, 13032, 26088, 12427, 25133...</td>\n",
       "    </tr>\n",
       "    <tr>\n",
       "      <th>1</th>\n",
       "      <td>2</td>\n",
       "      <td>[34688, 21376, 40198, 45066, 32139, 2573, 2485...</td>\n",
       "    </tr>\n",
       "    <tr>\n",
       "      <th>2</th>\n",
       "      <td>3</td>\n",
       "      <td>[23650, 17668, 16965, 18599, 24810, 24010, 938...</td>\n",
       "    </tr>\n",
       "    <tr>\n",
       "      <th>3</th>\n",
       "      <td>4</td>\n",
       "      <td>[35469]</td>\n",
       "    </tr>\n",
       "    <tr>\n",
       "      <th>4</th>\n",
       "      <td>5</td>\n",
       "      <td>[11777, 40706, 13988, 21413, 8518, 26604, 4369...</td>\n",
       "    </tr>\n",
       "  </tbody>\n",
       "</table>\n",
       "</div>"
      ],
      "text/plain": [
       "   user_id                                         product_id\n",
       "0        1  [196, 26405, 46149, 13032, 26088, 12427, 25133...\n",
       "1        2  [34688, 21376, 40198, 45066, 32139, 2573, 2485...\n",
       "2        3  [23650, 17668, 16965, 18599, 24810, 24010, 938...\n",
       "3        4                                            [35469]\n",
       "4        5  [11777, 40706, 13988, 21413, 8518, 26604, 4369..."
      ]
     },
     "execution_count": 20,
     "metadata": {},
     "output_type": "execute_result"
    }
   ],
   "source": [
    "user_grouped = prior_user.ix[prior_user['reordered'] ==1].groupby('user_id').product_id\\\n",
    "              .apply(lambda x : list(set(list(x)))).reset_index()\n",
    "user_grouped.head()"
   ]
  },
  {
   "cell_type": "code",
   "execution_count": 21,
   "metadata": {
    "collapsed": false
   },
   "outputs": [
    {
     "data": {
      "text/html": [
       "<div>\n",
       "<table border=\"1\" class=\"dataframe\">\n",
       "  <thead>\n",
       "    <tr style=\"text-align: right;\">\n",
       "      <th></th>\n",
       "      <th>order_id</th>\n",
       "      <th>user_id</th>\n",
       "      <th>product_id_x</th>\n",
       "      <th>product_id_y</th>\n",
       "    </tr>\n",
       "  </thead>\n",
       "  <tbody>\n",
       "    <tr>\n",
       "      <th>0</th>\n",
       "      <td>1187899</td>\n",
       "      <td>1</td>\n",
       "      <td>[196, 25133, 38928, 26405, 39657, 10258, 13032...</td>\n",
       "      <td>[196, 26405, 46149, 13032, 26088, 12427, 25133...</td>\n",
       "    </tr>\n",
       "    <tr>\n",
       "      <th>1</th>\n",
       "      <td>1492625</td>\n",
       "      <td>2</td>\n",
       "      <td>[22963, 7963, 16589, 32792, 41787, 22825, 1364...</td>\n",
       "      <td>[34688, 21376, 40198, 45066, 32139, 2573, 2485...</td>\n",
       "    </tr>\n",
       "    <tr>\n",
       "      <th>2</th>\n",
       "      <td>2196797</td>\n",
       "      <td>5</td>\n",
       "      <td>[15349, 19057, 16185, 21413, 20843, 20114, 482...</td>\n",
       "      <td>[11777, 40706, 13988, 21413, 8518, 26604, 4369...</td>\n",
       "    </tr>\n",
       "    <tr>\n",
       "      <th>3</th>\n",
       "      <td>525192</td>\n",
       "      <td>7</td>\n",
       "      <td>[12053, 47272, 37999, 13198, 43967, 40852, 176...</td>\n",
       "      <td>[35333, 519, 45066, 13198, 10895, 21137, 40852...</td>\n",
       "    </tr>\n",
       "    <tr>\n",
       "      <th>4</th>\n",
       "      <td>880375</td>\n",
       "      <td>8</td>\n",
       "      <td>[15937, 5539, 10960, 23165, 22247, 4853, 27104...</td>\n",
       "      <td>[17794, 18531, 9839, 14992, 21903, 34358, 2898...</td>\n",
       "    </tr>\n",
       "  </tbody>\n",
       "</table>\n",
       "</div>"
      ],
      "text/plain": [
       "   order_id  user_id                                       product_id_x  \\\n",
       "0   1187899        1  [196, 25133, 38928, 26405, 39657, 10258, 13032...   \n",
       "1   1492625        2  [22963, 7963, 16589, 32792, 41787, 22825, 1364...   \n",
       "2   2196797        5  [15349, 19057, 16185, 21413, 20843, 20114, 482...   \n",
       "3    525192        7  [12053, 47272, 37999, 13198, 43967, 40852, 176...   \n",
       "4    880375        8  [15937, 5539, 10960, 23165, 22247, 4853, 27104...   \n",
       "\n",
       "                                        product_id_y  \n",
       "0  [196, 26405, 46149, 13032, 26088, 12427, 25133...  \n",
       "1  [34688, 21376, 40198, 45066, 32139, 2573, 2485...  \n",
       "2  [11777, 40706, 13988, 21413, 8518, 26604, 4369...  \n",
       "3  [35333, 519, 45066, 13198, 10895, 21137, 40852...  \n",
       "4  [17794, 18531, 9839, 14992, 21903, 34358, 2898...  "
      ]
     },
     "execution_count": 21,
     "metadata": {},
     "output_type": "execute_result"
    }
   ],
   "source": [
    "selected = orders.ix[orders['eval_set']=='train']\n",
    "selected = pd.merge(selected[['order_id', 'user_id']],  train_grouped, on = 'order_id', how = 'left')\n",
    "selected = pd.merge(selected, user_grouped, on='user_id', how = 'inner')\n",
    "selected.head()"
   ]
  },
  {
   "cell_type": "code",
   "execution_count": 22,
   "metadata": {
    "collapsed": false,
    "scrolled": true
   },
   "outputs": [],
   "source": [
    "mlb.fit(selected.product_id_y +selected.product_id_x)\n",
    "y_true = mlb.transform(selected.product_id_x)\n",
    "y_pred = mlb.transform(selected.product_id_y)"
   ]
  },
  {
   "cell_type": "code",
   "execution_count": 23,
   "metadata": {
    "collapsed": false
   },
   "outputs": [
    {
     "data": {
      "text/plain": [
       "[0.24750974597803274,\n",
       " 0.14760066954993412,\n",
       " 0.25314330808333446,\n",
       " 0.25462647977058134]"
      ]
     },
     "execution_count": 23,
     "metadata": {},
     "output_type": "execute_result"
    }
   ],
   "source": [
    "[f1_score(y_true, y_pred, average='micro') ,\n",
    "f1_score(y_true, y_pred, average = 'macro'),\n",
    "f1_score(y_true, y_pred, average = 'weighted'),\n",
    "f1_score(y_true, y_pred, average = 'samples')]"
   ]
  },
  {
   "cell_type": "markdown",
   "metadata": {},
   "source": [
    "# Baseline is \"TryOut2: Order reordered products in last order\""
   ]
  }
 ],
 "metadata": {
  "kernelspec": {
   "display_name": "Python 3",
   "language": "python",
   "name": "python3"
  },
  "language_info": {
   "codemirror_mode": {
    "name": "ipython",
    "version": 3
   },
   "file_extension": ".py",
   "mimetype": "text/x-python",
   "name": "python",
   "nbconvert_exporter": "python",
   "pygments_lexer": "ipython3",
   "version": "3.5.2"
  }
 },
 "nbformat": 4,
 "nbformat_minor": 2
}
